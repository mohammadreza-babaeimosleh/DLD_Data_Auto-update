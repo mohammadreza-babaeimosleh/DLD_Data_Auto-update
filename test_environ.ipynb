{
 "cells": [],
 "metadata": {
  "kernelspec": {
   "display_name": "Python 3.10.11 ('DL')",
   "language": "python",
   "name": "python3"
  },
  "language_info": {
   "codemirror_mode": {
    "name": "ipython",
    "version": 3
   },
   "file_extension": ".py",
   "mimetype": "text/x-python",
   "name": "python",
   "nbconvert_exporter": "python",
   "pygments_lexer": "ipython3",
   "version": "3.10.11"
  },
  "vscode": {
   "interpreter": {
    "hash": "d067a5f1a629635e12b591a4dd0938cde03bfe358d4e458528a654a45d39bda6"
   }
  }
 },
 "nbformat": 4,
 "nbformat_minor": 5
}
